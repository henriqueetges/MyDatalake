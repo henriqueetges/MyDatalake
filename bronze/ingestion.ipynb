{
 "cells": [
  {
   "cell_type": "code",
   "execution_count": 0,
   "metadata": {
    "application/vnd.databricks.v1+cell": {
     "cellMetadata": {
      "byteLimit": 2048000,
      "rowLimit": 10000
     },
     "inputWidgets": {},
     "nuid": "8a5c5917-59d7-4d1e-a6ea-474f565a3b03",
     "showTitle": false,
     "tableResultSettingsMap": {},
     "title": ""
    }
   },
   "outputs": [],
   "source": [
    "from lib.ingestors import IngestorCDC, Ingestor    "
   ]
  },
  {
   "cell_type": "code",
   "execution_count": 0,
   "metadata": {
    "application/vnd.databricks.v1+cell": {
     "cellMetadata": {
      "byteLimit": 2048000,
      "rowLimit": 10000
     },
     "inputWidgets": {},
     "nuid": "c7c132f8-2d54-4aa4-ab0e-a2a6c27dbe77",
     "showTitle": false,
     "tableResultSettingsMap": {},
     "title": ""
    }
   },
   "outputs": [],
   "source": [
    "input_format = dbutils.widgets.get('input_format')\n",
    "catalog = dbutils.widgets.get('catalog')\n",
    "schema = dbutils.widgets.get('schema')\n",
    "table_name = dbutils.widgets.get('table_name')\n",
    "load_type = dbutils.widgets.get('load_type')"
   ]
  },
  {
   "cell_type": "code",
   "execution_count": 0,
   "metadata": {
    "application/vnd.databricks.v1+cell": {
     "cellMetadata": {
      "byteLimit": 2048000,
      "rowLimit": 10000
     },
     "inputWidgets": {},
     "nuid": "a17afae5-bd51-447a-8299-691a42710c52",
     "showTitle": false,
     "tableResultSettingsMap": {},
     "title": ""
    }
   },
   "outputs": [],
   "source": [
    "if load_type == 'cdc':\n",
    "    ingest = IngestorCDC(\n",
    "        catalog=catalog, \n",
    "        schema=schema, \n",
    "        table_name=table_name,    \n",
    "        spark = spark,\n",
    "        input_format=input_format\n",
    ")\n",
    "else:\n",
    "    ingest = Ingestor(\n",
    "        catalog=catalog, \n",
    "        schema=schema, \n",
    "        table_name=table_name,\n",
    "        spark = spark,\n",
    "        input_format=input_format)"
   ]
  },
  {
   "cell_type": "code",
   "execution_count": 0,
   "metadata": {
    "application/vnd.databricks.v1+cell": {
     "cellMetadata": {
      "byteLimit": 2048000,
      "rowLimit": 10000
     },
     "inputWidgets": {},
     "nuid": "6e8547cd-0376-426d-8ffc-61c31fecac92",
     "showTitle": false,
     "tableResultSettingsMap": {},
     "title": ""
    }
   },
   "outputs": [],
   "source": [
    "\n",
    "ingest.run()\n"
   ]
  }
 ],
 "metadata": {
  "application/vnd.databricks.v1+notebook": {
   "computePreferences": null,
   "dashboards": [],
   "environmentMetadata": {
    "base_environment": "",
    "environment_version": "2"
   },
   "inputWidgetPreferences": null,
   "language": "python",
   "notebookMetadata": {
    "pythonIndentUnit": 4
   },
   "notebookName": "ingestion",
   "widgets": {
    "catalog": {
     "currentValue": "bronze",
     "nuid": "3f85bbfd-fd32-47b9-916f-c62b4d29f306",
     "typedWidgetInfo": {
      "autoCreated": false,
      "defaultValue": "bronze",
      "label": "",
      "name": "catalog",
      "options": {
       "widgetDisplayType": "Text",
       "validationRegex": null
      },
      "parameterDataType": "String"
     },
     "widgetInfo": {
      "widgetType": "text",
      "defaultValue": "bronze",
      "label": "",
      "name": "catalog",
      "options": {
       "widgetType": "text",
       "autoCreated": false,
       "validationRegex": null
      }
     }
    },
    "input_format": {
     "currentValue": "json",
     "nuid": "94585065-d3f0-4de0-b304-7fefc3c5f2a2",
     "typedWidgetInfo": {
      "autoCreated": false,
      "defaultValue": "json",
      "label": "",
      "name": "input_format",
      "options": {
       "widgetDisplayType": "Text",
       "validationRegex": null
      },
      "parameterDataType": "String"
     },
     "widgetInfo": {
      "widgetType": "text",
      "defaultValue": "json",
      "label": "",
      "name": "input_format",
      "options": {
       "widgetType": "text",
       "autoCreated": false,
       "validationRegex": null
      }
     }
    },
    "load_type": {
     "currentValue": "cdc",
     "nuid": "e8479189-9b07-4b35-95ef-6d04a11b06a7",
     "typedWidgetInfo": {
      "autoCreated": false,
      "defaultValue": "cdc",
      "label": "",
      "name": "load_type",
      "options": {
       "widgetDisplayType": "Text",
       "validationRegex": null
      },
      "parameterDataType": "String"
     },
     "widgetInfo": {
      "widgetType": "text",
      "defaultValue": "cdc",
      "label": "",
      "name": "load_type",
      "options": {
       "widgetType": "text",
       "autoCreated": false,
       "validationRegex": null
      }
     }
    },
    "schema": {
     "currentValue": "brapi",
     "nuid": "ef4390ad-0dfc-4976-9854-6e8e9ee61d97",
     "typedWidgetInfo": {
      "autoCreated": false,
      "defaultValue": "brapi",
      "label": "",
      "name": "schema",
      "options": {
       "widgetDisplayType": "Text",
       "validationRegex": null
      },
      "parameterDataType": "String"
     },
     "widgetInfo": {
      "widgetType": "text",
      "defaultValue": "brapi",
      "label": "",
      "name": "schema",
      "options": {
       "widgetType": "text",
       "autoCreated": false,
       "validationRegex": null
      }
     }
    },
    "table_name": {
     "currentValue": "tickers",
     "nuid": "1a5128f0-faa9-40be-9535-3646f1381cdb",
     "typedWidgetInfo": {
      "autoCreated": false,
      "defaultValue": "tickers",
      "label": "",
      "name": "table_name",
      "options": {
       "widgetDisplayType": "Text",
       "validationRegex": null
      },
      "parameterDataType": "String"
     },
     "widgetInfo": {
      "widgetType": "text",
      "defaultValue": "tickers",
      "label": "",
      "name": "table_name",
      "options": {
       "widgetType": "text",
       "autoCreated": false,
       "validationRegex": null
      }
     }
    }
   }
  },
  "language_info": {
   "name": "python"
  }
 },
 "nbformat": 4,
 "nbformat_minor": 0
}
