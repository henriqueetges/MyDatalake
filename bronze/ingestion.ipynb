{
 "cells": [
  {
   "cell_type": "code",
   "execution_count": 0,
   "metadata": {
    "application/vnd.databricks.v1+cell": {
     "cellMetadata": {
      "byteLimit": 2048000,
      "rowLimit": 10000
     },
     "inputWidgets": {},
     "nuid": "8a5c5917-59d7-4d1e-a6ea-474f565a3b03",
     "showTitle": false,
     "tableResultSettingsMap": {},
     "title": ""
    }
   },
   "outputs": [],
   "source": [
    "from ingestors import IngestorCDC, Ingestor    "
   ]
  },
  {
   "cell_type": "code",
   "execution_count": 0,
   "metadata": {
    "application/vnd.databricks.v1+cell": {
     "cellMetadata": {
      "byteLimit": 2048000,
      "rowLimit": 10000
     },
     "inputWidgets": {},
     "nuid": "8e73bd9a-0aac-4ef1-8e5d-387669afd87c",
     "showTitle": false,
     "tableResultSettingsMap": {},
     "title": ""
    }
   },
   "outputs": [],
   "source": [
    "# dbutils.widgets.text('input_format', 'json')\n",
    "# dbutils.widgets.text('catalog', 'bronze')\n",
    "# dbutils.widgets.text('schema', 'brapi')\n",
    "# dbutils.widgets.text('table_name', 'tickers')\n",
    "# dbutils.widgets.text('id_field', 'symbol')\n",
    "# dbutils.widgets.text('ts_field', 'regularMarketTime')\n",
    "# dbutils.widgets.text('load_type', 'cdc')\n",
    "\n"
   ]
  },
  {
   "cell_type": "code",
   "execution_count": 0,
   "metadata": {
    "application/vnd.databricks.v1+cell": {
     "cellMetadata": {
      "byteLimit": 2048000,
      "rowLimit": 10000
     },
     "inputWidgets": {},
     "nuid": "c7c132f8-2d54-4aa4-ab0e-a2a6c27dbe77",
     "showTitle": false,
     "tableResultSettingsMap": {},
     "title": ""
    }
   },
   "outputs": [],
   "source": [
    "input_format = 'json'\n",
    "catalog = 'bronze'\n",
    "schema = 'brapi'\n",
    "input_table_name = 'tickers'\n",
    "output_table_name = 'prices'\n",
    "id_field = 'symbol'\n",
    "load_type = 'cdc'"
   ]
  },
  {
   "cell_type": "code",
   "execution_count": 0,
   "metadata": {
    "application/vnd.databricks.v1+cell": {
     "cellMetadata": {
      "byteLimit": 2048000,
      "rowLimit": 10000
     },
     "inputWidgets": {},
     "nuid": "a17afae5-bd51-447a-8299-691a42710c52",
     "showTitle": false,
     "tableResultSettingsMap": {},
     "title": ""
    }
   },
   "outputs": [],
   "source": [
    "if load_type == 'cdc':\n",
    "    ingest = IngestorCDC(\n",
    "        catalog=catalog, \n",
    "        schema=schema, \n",
    "        input_table_name=input_table_name,\n",
    "        output_table_name=output_table_name,        \n",
    "        spark = spark,\n",
    "        input_format=input_format\n",
    ")\n",
    "else:\n",
    "    ingest = Ingestor(\n",
    "        catalog=catalog, \n",
    "        schema=schema, \n",
    "        input_table_name=input_table_name,\n",
    "        output_table_name=output_table_name,    \n",
    "        spark = spark,\n",
    "        input_format=input_format)"
   ]
  },
  {
   "cell_type": "code",
   "execution_count": 0,
   "metadata": {
    "application/vnd.databricks.v1+cell": {
     "cellMetadata": {
      "byteLimit": 2048000,
      "rowLimit": 10000
     },
     "inputWidgets": {},
     "nuid": "6e8547cd-0376-426d-8ffc-61c31fecac92",
     "showTitle": false,
     "tableResultSettingsMap": {},
     "title": ""
    }
   },
   "outputs": [],
   "source": [
    "ingest.run()\n",
    "\n"
   ]
  }
 ],
 "metadata": {
  "application/vnd.databricks.v1+notebook": {
   "computePreferences": null,
   "dashboards": [],
   "environmentMetadata": {
    "base_environment": "",
    "environment_version": "2"
   },
   "inputWidgetPreferences": null,
   "language": "python",
   "notebookMetadata": {
    "pythonIndentUnit": 4
   },
   "notebookName": "ingestion",
   "widgets": {}
  },
  "language_info": {
   "name": "python"
  }
 },
 "nbformat": 4,
 "nbformat_minor": 0
}
