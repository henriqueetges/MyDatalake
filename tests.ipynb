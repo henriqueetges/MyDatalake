{
 "cells": [
  {
   "cell_type": "code",
   "execution_count": 0,
   "metadata": {
    "application/vnd.databricks.v1+cell": {
     "cellMetadata": {
      "byteLimit": 2048000,
      "rowLimit": 10000
     },
     "inputWidgets": {},
     "nuid": "7fd147f4-9e3f-4d27-855c-c2775f29a75f",
     "showTitle": false,
     "tableResultSettingsMap": {},
     "title": ""
    }
   },
   "outputs": [],
   "source": [
    "from lib.checker_handler import CheckerHandler\n",
    "from lib.checker import Checker\n",
    "from lib.utils import parse_yaml, find_job"
   ]
  },
  {
   "cell_type": "code",
   "execution_count": 0,
   "metadata": {
    "application/vnd.databricks.v1+cell": {
     "cellMetadata": {
      "byteLimit": 2048000,
      "rowLimit": 10000
     },
     "inputWidgets": {},
     "nuid": "70ff2cd8-c46f-405e-9d8f-c80c41f5e80a",
     "showTitle": false,
     "tableResultSettingsMap": {},
     "title": ""
    }
   },
   "outputs": [],
   "source": [
    "table_meta = find_job('cdc', 'silver_cdc')\n",
    "tables = table_meta.get('tables')\n",
    "instructions = []\n",
    "for table in tables:\n",
    "    table['dataframe']= spark.sql(f\"SELECT * FROM {table.get('catalog')}.{table.get('schema')}.{table.get('table_name')}\")\n",
    "    table['metadata_path'] = f\"{table.get('catalog')}/{table.get('table_name')}/{table.get('table_name')}.yml\"\n",
    "    instructions.append(table)\n",
    "\n",
    "prepped = {\n",
    "    entry['table_name']: {k:v for k, v in entry.items()}\n",
    "    for entry in instructions\n",
    "}    \n",
    "prepped\n",
    "    \n",
    "\n",
    "\n"
   ]
  },
  {
   "cell_type": "code",
   "execution_count": 0,
   "metadata": {
    "application/vnd.databricks.v1+cell": {
     "cellMetadata": {
      "byteLimit": 2048000,
      "rowLimit": 10000
     },
     "inputWidgets": {},
     "nuid": "6cc36d7d-9822-4710-bb97-99d6220c22f8",
     "showTitle": false,
     "tableResultSettingsMap": {},
     "title": ""
    }
   },
   "outputs": [],
   "source": [
    "handler = CheckerHandler(spark, prepped)"
   ]
  },
  {
   "cell_type": "code",
   "execution_count": 0,
   "metadata": {
    "application/vnd.databricks.v1+cell": {
     "cellMetadata": {
      "byteLimit": 2048000,
      "rowLimit": 10000
     },
     "inputWidgets": {},
     "nuid": "365ccc46-6cf2-469f-a2c5-05df8529cc1f",
     "showTitle": false,
     "tableResultSettingsMap": {},
     "title": ""
    }
   },
   "outputs": [],
   "source": [
    "x = handler.run_checks()"
   ]
  },
  {
   "cell_type": "code",
   "execution_count": 0,
   "metadata": {
    "application/vnd.databricks.v1+cell": {
     "cellMetadata": {
      "byteLimit": 2048000,
      "rowLimit": 10000
     },
     "inputWidgets": {},
     "nuid": "072c9ea1-52f8-41a9-8fa0-703e702508d8",
     "showTitle": true,
     "tableResultSettingsMap": {
      "0": {
       "dataGridStateBlob": null,
       "filterBlob": "{\"version\":1,\"filterGroups\":[{\"enabled\":true,\"filterGroupId\":\"fg_f5aeaa92\",\"op\":\"OR\",\"filters\":[{\"filterId\":\"f_45b3873e\",\"enabled\":true,\"columnId\":\"table_name\",\"dataType\":\"string\",\"filterType\":\"eq\"}],\"local\":false,\"updatedAt\":1755020138581},{\"enabled\":true,\"filterGroupId\":\"fg_99c9ad4f\",\"op\":\"OR\",\"filters\":[{\"filterId\":\"f_9c6797df\",\"enabled\":true,\"columnId\":\"test_type\",\"dataType\":\"string\",\"filterType\":\"oneof\",\"filterValues\":[\"duplicated\"],\"filterConfig\":{\"caseSensitive\":true}}],\"local\":false,\"updatedAt\":1755020199565}],\"syncTimestamp\":1755020199565}",
       "queryPlanFiltersBlob": "[{\"kind\":\"call\",\"function\":\"and\",\"args\":[{\"kind\":\"call\",\"function\":\"or\",\"args\":[{\"kind\":\"call\",\"function\":\"in\",\"args\":[{\"kind\":\"identifier\",\"identifier\":\"test_type\"},{\"kind\":\"literal\",\"value\":\"duplicated\",\"type\":\"string\"}]}]}]}]",
       "tableResultIndex": 0
      }
     },
     "title": "e"
    }
   },
   "outputs": [],
   "source": [
    "x.display(2000)"
   ]
  }
 ],
 "metadata": {
  "application/vnd.databricks.v1+notebook": {
   "computePreferences": null,
   "dashboards": [],
   "environmentMetadata": {
    "base_environment": "",
    "environment_version": "2"
   },
   "inputWidgetPreferences": null,
   "language": "python",
   "notebookMetadata": {
    "pythonIndentUnit": 4
   },
   "notebookName": "tests",
   "widgets": {}
  },
  "language_info": {
   "name": "python"
  }
 },
 "nbformat": 4,
 "nbformat_minor": 0
}
